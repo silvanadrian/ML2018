{
 "cells": [
  {
   "cell_type": "markdown",
   "metadata": {},
   "source": [
    "# Kernel Perceptron\n",
    "\n",
    "Remember to enable interactive plotting, e.g., by: <code>jupyter-3.6  nbextension enable --py widgetsnbextension</code>\n",
    "\n",
    "Some general stuff first:"
   ]
  },
  {
   "cell_type": "code",
   "execution_count": null,
   "metadata": {},
   "outputs": [],
   "source": [
    "%pylab inline\n",
    "\n",
    "from sklearn.datasets import make_classification, make_moons, make_circles\n",
    "\n",
    "import ipywidgets as widgets\n",
    "\n",
    "import warnings\n",
    "warnings.filterwarnings(\"ignore\")\n",
    "\n",
    "# Default figure size in inches\n",
    "pylab.rcParams['figure.figsize'] = (10.0, 6.0)"
   ]
  },
  {
   "cell_type": "code",
   "execution_count": null,
   "metadata": {},
   "outputs": [],
   "source": [
    "def rbf_kernel(xi, xj, sigma=5, axis=2):\n",
    "    return np.exp(- np.sum((xi-xj)**2 / (2*sigma**2), axis=axis))\n",
    "\n",
    "def polynomial_kernel(xi, xj, degree=1, bias=False, axis=2):\n",
    "    return (np.sum(xi*xj, axis=axis) + bias)**degree\n",
    "\n",
    "class KernelPerceptron:\n",
    "    \n",
    "    def __init__(self, kernel=\"rbf\", sigma=5, degree=1, bias=False, max_iter=100):\n",
    "        \n",
    "        if kernel == \"rbf\":\n",
    "            self.kernel = lambda x,y,**kwargs: rbf_kernel(x,y,sigma,**kwargs)\n",
    "        elif kernel == \"poly\":\n",
    "            self.kernel = lambda x,y,**kwargs: polynomial_kernel(x,y,degree,bias,**kwargs)\n",
    "        \n",
    "        self.max_iter = max_iter\n",
    "        \n",
    "                    \n",
    "    def fit(self, X, y):\n",
    "        \n",
    "        n_samples = X.shape[0]\n",
    "        alpha = np.zeros(n_samples)\n",
    "\n",
    "        total_error = 1e6\n",
    "        self.it = 0\n",
    "        \n",
    "        # Store all possible kernel calculations to avoid recomputation,\n",
    "        # that is, we cache the Gram matrix\n",
    "        xi, xj = np.meshgrid(range(n_samples), range(n_samples))\n",
    "        K = self.kernel(X[xj], X[xi])\n",
    "\n",
    "        # Perceptron learning\n",
    "        while total_error > 0 and self.it < self.max_iter:\n",
    "            total_error = 0\n",
    "            self.it += 1\n",
    "            \n",
    "            for i in range(n_samples):\n",
    "                if np.sign(np.sum(K[:,i] * alpha * y)) != y[i]:\n",
    "                    alpha[i] += 1\n",
    "                    total_error += 1\n",
    "            \n",
    "        \n",
    "        # Store only samples with alpha > 0 (i.e., the \"support vectors\"):\n",
    "        inds = np.where(alpha > 0)\n",
    "        self.alpha = alpha[inds]\n",
    "        self.svx = X[inds]\n",
    "        self.svy = y[inds]\n",
    "       \n",
    "    \n",
    "    def project(self, X):\n",
    "        \"\"\"\n",
    "        Convenience function to speed up plotting. The sign of this is the\n",
    "        proper prediction.\n",
    "        \"\"\"\n",
    "        \n",
    "        p = np.zeros(X.shape[0])\n",
    "        \n",
    "        for i, svx in enumerate(self.svx):\n",
    "            svxi = np.tile(svx, (X.shape[0], 1))\n",
    "            p += self.alpha[i] * self.svy[i] * self.kernel(svxi, X, axis=1)\n",
    "\n",
    "        return p      \n",
    "    \n",
    "    \n",
    "    def predict(self, X):\n",
    "        return np.sign(self.project(X))  \n",
    "    \n",
    "    \n",
    "def plot_interactive_perceptron(X,y,res=None, max_iter=100):\n",
    "    # Save calculations for later use:\n",
    "    cache = {}\n",
    "\n",
    "    fig, ax = plt.subplots()\n",
    "    class_colours = ['b' if i==-1 else 'r' for i in y]\n",
    "    ax.scatter(X[:,0], X[:,1], s=25, c=class_colours,\n",
    "                edgecolor=plt.cm.gray(.95), lw=0.5, zorder=100)\n",
    "    \n",
    "    xl,xh = ax.get_xlim()\n",
    "    yl,yh = ax.get_ylim()\n",
    "\n",
    "    close(fig)\n",
    "    \n",
    "    if res is None:\n",
    "        res = 200\n",
    "    \n",
    "    # Create grid to calculate the decision boundary on:\n",
    "    xx, yy = np.meshgrid(np.linspace(xl, xh, res),\n",
    "                        np.linspace(yl, yh, res))\n",
    "\n",
    "    \n",
    "    def f(sigma, degree, bias, kernel):\n",
    "        \n",
    "        boolbias = 1 if bias == 'yes' else 0\n",
    "        \n",
    "        try:\n",
    "            Z = cache[kernel][sigma][degree][boolbias]\n",
    "\n",
    "        except KeyError:\n",
    "            clf = KernelPerceptron(kernel=kernel, sigma=sigma, degree=degree, bias=boolbias, max_iter=max_iter)\n",
    "            clf.fit(X, y)\n",
    "\n",
    "            Z = clf.project(np.c_[xx.ravel(), yy.ravel()])\n",
    "            Z = Z.reshape(xx.shape)\n",
    "\n",
    "            # Save the calculation:           \n",
    "            cache.setdefault(kernel, {}).setdefault(sigma, {}).setdefault(degree, {}).setdefault(boolbias, Z)           \n",
    "\n",
    "                    \n",
    "        fig, ax = plt.subplots()\n",
    "        \n",
    "        # Plot data:\n",
    "        ax.scatter(X[:,0], X[:,1], s=45, c=class_colours,\n",
    "                   edgecolor=plt.cm.gray(.95), lw=0.5, zorder=100)\n",
    "\n",
    "        # Plot decision function:\n",
    "        plt.contourf(xx, yy, Z, [-1e100,0.0,1e100], cmap=cm.coolwarm, \n",
    "                     origin='lower', alpha=.6, zorder=-10)\n",
    "        \n",
    "        plt.contour(xx,yy,Z, levels=[0], colors=[cm.gray(.95)], \n",
    "                    linestyles=[\"solid\"], linewidths=2)\n",
    "        \n",
    "        ax.set_xlim(xl, xh)\n",
    "        ax.set_ylim(yl, yh)\n",
    "\n",
    "        ax.xaxis.set_ticks_position('bottom')\n",
    "        ax.grid(False)\n",
    "\n",
    "    _ = widgets.interact(f, \n",
    "                        kernel=widgets.RadioButtons(options=( \"rbf\",\"poly\")),\n",
    "                        sigma=widgets.FloatSlider(min=.1, max=5,\n",
    "                                                step=.1, value=1),\n",
    "                        degree=widgets.IntSlider(min=1, max=10,\n",
    "                                                step=1, value=1),\n",
    "                        bias=widgets.RadioButtons(options=['yes', 'no'], value='no'),\n",
    "                        )\n",
    "    "
   ]
  },
  {
   "cell_type": "markdown",
   "metadata": {},
   "source": [
    "## An easy problem"
   ]
  },
  {
   "cell_type": "code",
   "execution_count": null,
   "metadata": {},
   "outputs": [],
   "source": [
    "X, y = make_classification(n_samples=10, n_features=2, n_redundant=0, n_clusters_per_class=1, random_state=0)\n",
    "y = 2*y - 1  # ensure y \\in {-1,+1} \n",
    "scatter(X[:,0], X[:,1], s=45, c=['r' if i == 1 else 'b' for i in y], edgecolor=cm.gray(.95), lw=0.5);"
   ]
  },
  {
   "cell_type": "code",
   "execution_count": null,
   "metadata": {},
   "outputs": [],
   "source": [
    "plot_interactive_perceptron(X,y,max_iter=10000)"
   ]
  },
  {
   "cell_type": "markdown",
   "metadata": {},
   "source": [
    "## Some harder problems"
   ]
  },
  {
   "cell_type": "code",
   "execution_count": null,
   "metadata": {},
   "outputs": [],
   "source": [
    "X, y = make_moons(n_samples=50, noise=.3, random_state=0)\n",
    "y = 2*y - 1\n",
    "scatter(X[:,0], X[:,1], s=45, c=['r' if i == 1 else 'b' for i in y], edgecolor=cm.gray(.95), lw=0.5);"
   ]
  },
  {
   "cell_type": "code",
   "execution_count": null,
   "metadata": {},
   "outputs": [],
   "source": [
    "plot_interactive_perceptron(X,y,max_iter=1000000)"
   ]
  },
  {
   "cell_type": "code",
   "execution_count": null,
   "metadata": {},
   "outputs": [],
   "source": [
    "X, y = make_circles(n_samples=50, noise=.1, random_state=0)\n",
    "y = 2*y - 1\n",
    "scatter(X[:,0], X[:,1], s=45, c=['r' if i == 1 else 'b' for i in y], edgecolor=cm.gray(.95), lw=0.5);"
   ]
  },
  {
   "cell_type": "code",
   "execution_count": null,
   "metadata": {},
   "outputs": [],
   "source": [
    "plot_interactive_perceptron(X,y,max_iter=50000)"
   ]
  },
  {
   "cell_type": "code",
   "execution_count": null,
   "metadata": {},
   "outputs": [],
   "source": [
    "def gen_non_lin_separable_data(random_state=0):\n",
    "    np.random.seed(random_state)\n",
    "    mean1 = [-1, 2]\n",
    "    mean2 = [1, -1]\n",
    "    mean3 = [4, -4]\n",
    "    mean4 = [-4, 4]\n",
    "    cov = [[1.0,0.8], [0.8, 1.0]]\n",
    "    x1 = np.random.multivariate_normal(mean1, cov, 50)\n",
    "    x2 = np.random.multivariate_normal(mean2, cov, 50)\n",
    "    x3 = np.random.multivariate_normal(mean3, cov, 50)\n",
    "    x4 = np.random.multivariate_normal(mean4, cov, 50)\n",
    "    X = np.vstack((x1,x2,x3,x4))\n",
    "    y1 = np.ones(len(x1))\n",
    "    y2 = np.ones(len(x2))*-1\n",
    "    y3 = np.ones(len(x3))\n",
    "    y4 = np.ones(len(x4))*-1\n",
    "    y = np.hstack((y1,y2,y3,y4))\n",
    "    return X, y"
   ]
  },
  {
   "cell_type": "code",
   "execution_count": null,
   "metadata": {},
   "outputs": [],
   "source": [
    "X, y = gen_non_lin_separable_data()\n",
    "scatter(X[:,0], X[:,1], s=45, c=['r' if i == 1 else 'b' for i in y], edgecolor=cm.gray(.95), lw=0.5);"
   ]
  },
  {
   "cell_type": "code",
   "execution_count": null,
   "metadata": {},
   "outputs": [],
   "source": [
    "plot_interactive_perceptron(X,y)"
   ]
  }
 ],
 "metadata": {
  "kernelspec": {
   "display_name": "Python 3",
   "language": "python",
   "name": "python3"
  },
  "language_info": {
   "codemirror_mode": {
    "name": "ipython",
    "version": 3
   },
   "file_extension": ".py",
   "mimetype": "text/x-python",
   "name": "python",
   "nbconvert_exporter": "python",
   "pygments_lexer": "ipython3",
   "version": "3.6.7"
  },
  "widgets": {
   "state": {
    "1c75b9972ea24452bc58417e54b9f944": {
     "views": [
      {
       "cell_index": 9
      }
     ]
    },
    "86d8f42e2eba4424b5d20d34606a38b4": {
     "views": [
      {
       "cell_index": 12
      }
     ]
    },
    "ca8e197ed8ee4f0c8f08d520220bc714": {
     "views": [
      {
       "cell_index": 7
      }
     ]
    },
    "e058b80437a043ab9655509013984afc": {
     "views": [
      {
       "cell_index": 4
      }
     ]
    }
   },
   "version": "1.2.0"
  }
 },
 "nbformat": 4,
 "nbformat_minor": 1
}
